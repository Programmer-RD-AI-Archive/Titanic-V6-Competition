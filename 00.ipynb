{
 "cells": [
  {
   "cell_type": "code",
   "execution_count": 1,
   "id": "a1d074ce-b5ba-483b-b5ae-f824cdec86cc",
   "metadata": {},
   "outputs": [
    {
     "data": {
      "text/plain": [
       "<torch._C.Generator at 0x7f7a09f63890>"
      ]
     },
     "execution_count": 1,
     "metadata": {},
     "output_type": "execute_result"
    }
   ],
   "source": [
    "import random\n",
    "import seaborn as sns\n",
    "import pandas as pd\n",
    "import numpy as np\n",
    "import matplotlib.pyplot as plt\n",
    "import sklearn\n",
    "import torch,torchvision\n",
    "from torch.nn import *\n",
    "from torch.optim import *\n",
    "\n",
    "# Model Eval\n",
    "from sklearn.compose import make_column_transformer\n",
    "from sklearn.model_selection import GridSearchCV\n",
    "from sklearn.model_selection import cross_val_score,train_test_split\n",
    "from sklearn.metrics import mean_absolute_error,mean_squared_error,accuracy_score,precision_score,f1_score,recall_score\n",
    "# Models\n",
    "from sklearn.neighbors import KNeighborsClassifier\n",
    "from sklearn.tree import DecisionTreeClassifier\n",
    "from sklearn.ensemble import GradientBoostingClassifier,AdaBoostClassifier,VotingClassifier,BaggingClassifier,RandomForestClassifier\n",
    "from sklearn.svm import SVC\n",
    "from sklearn.ensemble import BaggingClassifier\n",
    "from sklearn.ensemble import ExtraTreesClassifier\n",
    "from catboost import CatBoost,CatBoostClassifier\n",
    "from xgboost import XGBClassifier,XGBRFClassifier\n",
    "from flaml import AutoML\n",
    "# Other\n",
    "import pickle\n",
    "import wandb\n",
    "\n",
    "PROJECT_NAME = 'Titanic-V6'\n",
    "device = 'cuda'\n",
    "np.random.seed(65)\n",
    "random.seed(65)\n",
    "torch.manual_seed(65)"
   ]
  },
  {
   "cell_type": "code",
   "execution_count": 2,
   "id": "7791c80d-d6cc-4a7d-b640-7b1492602d08",
   "metadata": {},
   "outputs": [
    {
     "data": {
      "text/html": [
       "<div>\n",
       "<style scoped>\n",
       "    .dataframe tbody tr th:only-of-type {\n",
       "        vertical-align: middle;\n",
       "    }\n",
       "\n",
       "    .dataframe tbody tr th {\n",
       "        vertical-align: top;\n",
       "    }\n",
       "\n",
       "    .dataframe thead th {\n",
       "        text-align: right;\n",
       "    }\n",
       "</style>\n",
       "<table border=\"1\" class=\"dataframe\">\n",
       "  <thead>\n",
       "    <tr style=\"text-align: right;\">\n",
       "      <th></th>\n",
       "      <th>PassengerId</th>\n",
       "      <th>Pclass</th>\n",
       "      <th>Name</th>\n",
       "      <th>Sex</th>\n",
       "      <th>Age</th>\n",
       "      <th>SibSp</th>\n",
       "      <th>Parch</th>\n",
       "      <th>Ticket</th>\n",
       "      <th>Fare</th>\n",
       "      <th>Cabin</th>\n",
       "      <th>Embarked</th>\n",
       "    </tr>\n",
       "  </thead>\n",
       "  <tbody>\n",
       "    <tr>\n",
       "      <th>0</th>\n",
       "      <td>892</td>\n",
       "      <td>3</td>\n",
       "      <td>Kelly, Mr. James</td>\n",
       "      <td>male</td>\n",
       "      <td>34.5</td>\n",
       "      <td>0</td>\n",
       "      <td>0</td>\n",
       "      <td>330911</td>\n",
       "      <td>7.8292</td>\n",
       "      <td>NaN</td>\n",
       "      <td>Q</td>\n",
       "    </tr>\n",
       "    <tr>\n",
       "      <th>1</th>\n",
       "      <td>893</td>\n",
       "      <td>3</td>\n",
       "      <td>Wilkes, Mrs. James (Ellen Needs)</td>\n",
       "      <td>female</td>\n",
       "      <td>47.0</td>\n",
       "      <td>1</td>\n",
       "      <td>0</td>\n",
       "      <td>363272</td>\n",
       "      <td>7.0000</td>\n",
       "      <td>NaN</td>\n",
       "      <td>S</td>\n",
       "    </tr>\n",
       "    <tr>\n",
       "      <th>2</th>\n",
       "      <td>894</td>\n",
       "      <td>2</td>\n",
       "      <td>Myles, Mr. Thomas Francis</td>\n",
       "      <td>male</td>\n",
       "      <td>62.0</td>\n",
       "      <td>0</td>\n",
       "      <td>0</td>\n",
       "      <td>240276</td>\n",
       "      <td>9.6875</td>\n",
       "      <td>NaN</td>\n",
       "      <td>Q</td>\n",
       "    </tr>\n",
       "    <tr>\n",
       "      <th>3</th>\n",
       "      <td>895</td>\n",
       "      <td>3</td>\n",
       "      <td>Wirz, Mr. Albert</td>\n",
       "      <td>male</td>\n",
       "      <td>27.0</td>\n",
       "      <td>0</td>\n",
       "      <td>0</td>\n",
       "      <td>315154</td>\n",
       "      <td>8.6625</td>\n",
       "      <td>NaN</td>\n",
       "      <td>S</td>\n",
       "    </tr>\n",
       "    <tr>\n",
       "      <th>4</th>\n",
       "      <td>896</td>\n",
       "      <td>3</td>\n",
       "      <td>Hirvonen, Mrs. Alexander (Helga E Lindqvist)</td>\n",
       "      <td>female</td>\n",
       "      <td>22.0</td>\n",
       "      <td>1</td>\n",
       "      <td>1</td>\n",
       "      <td>3101298</td>\n",
       "      <td>12.2875</td>\n",
       "      <td>NaN</td>\n",
       "      <td>S</td>\n",
       "    </tr>\n",
       "    <tr>\n",
       "      <th>...</th>\n",
       "      <td>...</td>\n",
       "      <td>...</td>\n",
       "      <td>...</td>\n",
       "      <td>...</td>\n",
       "      <td>...</td>\n",
       "      <td>...</td>\n",
       "      <td>...</td>\n",
       "      <td>...</td>\n",
       "      <td>...</td>\n",
       "      <td>...</td>\n",
       "      <td>...</td>\n",
       "    </tr>\n",
       "    <tr>\n",
       "      <th>413</th>\n",
       "      <td>1305</td>\n",
       "      <td>3</td>\n",
       "      <td>Spector, Mr. Woolf</td>\n",
       "      <td>male</td>\n",
       "      <td>NaN</td>\n",
       "      <td>0</td>\n",
       "      <td>0</td>\n",
       "      <td>A.5. 3236</td>\n",
       "      <td>8.0500</td>\n",
       "      <td>NaN</td>\n",
       "      <td>S</td>\n",
       "    </tr>\n",
       "    <tr>\n",
       "      <th>414</th>\n",
       "      <td>1306</td>\n",
       "      <td>1</td>\n",
       "      <td>Oliva y Ocana, Dona. Fermina</td>\n",
       "      <td>female</td>\n",
       "      <td>39.0</td>\n",
       "      <td>0</td>\n",
       "      <td>0</td>\n",
       "      <td>PC 17758</td>\n",
       "      <td>108.9000</td>\n",
       "      <td>C105</td>\n",
       "      <td>C</td>\n",
       "    </tr>\n",
       "    <tr>\n",
       "      <th>415</th>\n",
       "      <td>1307</td>\n",
       "      <td>3</td>\n",
       "      <td>Saether, Mr. Simon Sivertsen</td>\n",
       "      <td>male</td>\n",
       "      <td>38.5</td>\n",
       "      <td>0</td>\n",
       "      <td>0</td>\n",
       "      <td>SOTON/O.Q. 3101262</td>\n",
       "      <td>7.2500</td>\n",
       "      <td>NaN</td>\n",
       "      <td>S</td>\n",
       "    </tr>\n",
       "    <tr>\n",
       "      <th>416</th>\n",
       "      <td>1308</td>\n",
       "      <td>3</td>\n",
       "      <td>Ware, Mr. Frederick</td>\n",
       "      <td>male</td>\n",
       "      <td>NaN</td>\n",
       "      <td>0</td>\n",
       "      <td>0</td>\n",
       "      <td>359309</td>\n",
       "      <td>8.0500</td>\n",
       "      <td>NaN</td>\n",
       "      <td>S</td>\n",
       "    </tr>\n",
       "    <tr>\n",
       "      <th>417</th>\n",
       "      <td>1309</td>\n",
       "      <td>3</td>\n",
       "      <td>Peter, Master. Michael J</td>\n",
       "      <td>male</td>\n",
       "      <td>NaN</td>\n",
       "      <td>1</td>\n",
       "      <td>1</td>\n",
       "      <td>2668</td>\n",
       "      <td>22.3583</td>\n",
       "      <td>NaN</td>\n",
       "      <td>C</td>\n",
       "    </tr>\n",
       "  </tbody>\n",
       "</table>\n",
       "<p>418 rows × 11 columns</p>\n",
       "</div>"
      ],
      "text/plain": [
       "     PassengerId  Pclass                                          Name  \\\n",
       "0            892       3                              Kelly, Mr. James   \n",
       "1            893       3              Wilkes, Mrs. James (Ellen Needs)   \n",
       "2            894       2                     Myles, Mr. Thomas Francis   \n",
       "3            895       3                              Wirz, Mr. Albert   \n",
       "4            896       3  Hirvonen, Mrs. Alexander (Helga E Lindqvist)   \n",
       "..           ...     ...                                           ...   \n",
       "413         1305       3                            Spector, Mr. Woolf   \n",
       "414         1306       1                  Oliva y Ocana, Dona. Fermina   \n",
       "415         1307       3                  Saether, Mr. Simon Sivertsen   \n",
       "416         1308       3                           Ware, Mr. Frederick   \n",
       "417         1309       3                      Peter, Master. Michael J   \n",
       "\n",
       "        Sex   Age  SibSp  Parch              Ticket      Fare Cabin Embarked  \n",
       "0      male  34.5      0      0              330911    7.8292   NaN        Q  \n",
       "1    female  47.0      1      0              363272    7.0000   NaN        S  \n",
       "2      male  62.0      0      0              240276    9.6875   NaN        Q  \n",
       "3      male  27.0      0      0              315154    8.6625   NaN        S  \n",
       "4    female  22.0      1      1             3101298   12.2875   NaN        S  \n",
       "..      ...   ...    ...    ...                 ...       ...   ...      ...  \n",
       "413    male   NaN      0      0           A.5. 3236    8.0500   NaN        S  \n",
       "414  female  39.0      0      0            PC 17758  108.9000  C105        C  \n",
       "415    male  38.5      0      0  SOTON/O.Q. 3101262    7.2500   NaN        S  \n",
       "416    male   NaN      0      0              359309    8.0500   NaN        S  \n",
       "417    male   NaN      1      1                2668   22.3583   NaN        C  \n",
       "\n",
       "[418 rows x 11 columns]"
      ]
     },
     "execution_count": 2,
     "metadata": {},
     "output_type": "execute_result"
    }
   ],
   "source": [
    "pd.read_csv('./data/test.csv')"
   ]
  },
  {
   "cell_type": "code",
   "execution_count": 3,
   "id": "60902011-3c4a-40ca-ab7e-54fe3f1f1c55",
   "metadata": {},
   "outputs": [],
   "source": [
    "def save_model(model,name):\n",
    "    pickle.dump(model,open(f'./models/{name}.pkl','wb'))\n",
    "    pickle.dump(model,open(f'./models/{name}.pk','wb'))\n",
    "def make_submission(model,name):\n",
    "    project_name = name\n",
    "    data = pd.read_csv('./data/test.csv')\n",
    "    ids = data['PassengerId']\n",
    "    new_ticket = []\n",
    "    tickets = data['Ticket']\n",
    "    for ticket in tickets:\n",
    "        ticket = ticket.split(' ')\n",
    "        try:\n",
    "            ticket = int(ticket[0])\n",
    "        except:\n",
    "            try:\n",
    "                ticket = int(ticket[1])    \n",
    "            except:\n",
    "                try:\n",
    "                    ticket = int(ticket[2])\n",
    "                except:\n",
    "                    ticket = 0\n",
    "        new_ticket.append(ticket)\n",
    "    data['Ticket'] = new_ticket\n",
    "    new_names = []\n",
    "    names = data['Name']\n",
    "    for name in names:\n",
    "        name = name.split(' ')[1].replace('.','')\n",
    "        new_names.append(name)\n",
    "        new_ticket.append(ticket)\n",
    "    cabins = data['Cabin']\n",
    "    new_cabins = []\n",
    "    for cabin in cabins:\n",
    "        try:\n",
    "            cabin = cabin[:1]\n",
    "            new_cabins.append(cabin)\n",
    "        except:\n",
    "            new_cabins.append(5000)\n",
    "    del data['Cabin']\n",
    "    data['Cabins'] = new_cabins\n",
    "    data,_,new_data,idx,labels = object_to_int(data,'Cabins')\n",
    "    data,_,new_data,idx,labels = object_to_int(data,'Name')\n",
    "    data['Cabins'].replace({0:np.nan},inplace=True)\n",
    "    data['Cabins'].fillna(data['Cabins'].median(),inplace=True)\n",
    "    data,_,new_data,idx,labels = object_to_int(data,'Embarked')\n",
    "    data,_,new_data,idx,labels = object_to_int(data,'Age')\n",
    "    data,_,new_data,idx,labels = object_to_int(data,'Sex')\n",
    "    data['Age'].fillna(data['Age'].median(),inplace=True)\n",
    "    data['Fare'].fillna(data['Fare'].median(),inplace=True)\n",
    "    name = project_name\n",
    "    data = data.astype(float)\n",
    "    preds = model.predict(data)\n",
    "    df = pd.DataFrame({'PassengerId':ids,'Survived':preds.astype(int)}).to_csv(f'./submission/' + name + '.csv',index=False)\n",
    "def valid(model,X,y,valid=False):\n",
    "    preds = model.predict(X)\n",
    "    if valid is False:\n",
    "        result = {\n",
    "            'Accuracy':accuracy_score(y_true=y,y_pred=preds),\n",
    "            'Precision':precision_score(y_true=y,y_pred=preds),\n",
    "            'F1':f1_score(y_true=y,y_pred=preds),\n",
    "            'Recall':recall_score(y_true=y,y_pred=preds)\n",
    "        }\n",
    "    else:\n",
    "        result = {\n",
    "            'Val Accuracy':accuracy_score(y_true=y,y_pred=preds),\n",
    "            'Val Precision':precision_score(y_true=y,y_pred=preds),\n",
    "            'Val F1':f1_score(y_true=y,y_pred=preds),\n",
    "            'Val Recall':recall_score(y_true=y,y_pred=preds)\n",
    "        }\n",
    "    return result\n",
    "def train(model,X_train,X_test,y_train,y_test,name):\n",
    "    wandb.init(project=PROJECT_NAME,name=name)\n",
    "    model.fit(X_train,y_train)\n",
    "    wandb.log(valid(model,X_test,y_test,True))\n",
    "    wandb.log(valid(model,X_train,y_train,False))\n",
    "    make_submission(model,name)\n",
    "    save_model(model,name)\n",
    "    wandb.finish()\n",
    "def fe(data,col):\n",
    "    max_num = data[col].quantile(0.99)\n",
    "    min_num = data[col].quantile(0.05)\n",
    "    data = data[data[col] > max_num]\n",
    "    data = data[data[col] > min_num]\n",
    "    return data"
   ]
  },
  {
   "cell_type": "code",
   "execution_count": 4,
   "id": "88147b4e-5bbb-4010-9c90-dfdc5b5eaabd",
   "metadata": {},
   "outputs": [],
   "source": [
    "def object_to_int(data,col):\n",
    "    old_data = data.copy()\n",
    "    data = data[col].tolist()\n",
    "    labels = {}\n",
    "    idx = -1\n",
    "    new_data = []\n",
    "    for data_iter in data:\n",
    "        if data_iter not in list(labels.keys()):\n",
    "            idx += 1\n",
    "            labels[data_iter] = idx\n",
    "    for data_iter in data:\n",
    "        new_data.append(labels[data_iter])\n",
    "    old_data[col] = new_data\n",
    "    return old_data,old_data[col],new_data,idx,labels"
   ]
  },
  {
   "cell_type": "code",
   "execution_count": 5,
   "id": "2b80c4d1-0699-4b3e-bde1-ec237167733b",
   "metadata": {},
   "outputs": [],
   "source": [
    "# data = pd.read_csv('./data/train.csv')\n",
    "# data = data.sample(frac=1)"
   ]
  },
  {
   "cell_type": "code",
   "execution_count": 6,
   "id": "85c78144-78be-4b1d-bc84-c5ed9eb40ff0",
   "metadata": {},
   "outputs": [],
   "source": [
    "# data.head()"
   ]
  },
  {
   "cell_type": "code",
   "execution_count": 7,
   "id": "553fbdc0-14d5-4724-a018-cb3a4d1e3303",
   "metadata": {},
   "outputs": [],
   "source": [
    "# old_data = data.copy()"
   ]
  },
  {
   "cell_type": "code",
   "execution_count": 8,
   "id": "42aa620e-ff29-4246-aaf2-1b1997dafecb",
   "metadata": {},
   "outputs": [],
   "source": [
    "# new_ticket = []\n",
    "# tickets = data['Ticket']\n",
    "# for ticket in tickets:\n",
    "#     ticket = ticket.split(' ')\n",
    "#     try:\n",
    "#         ticket = int(ticket[0])\n",
    "#     except:\n",
    "#         try:\n",
    "#             ticket = int(ticket[1])    \n",
    "#         except:\n",
    "#             try:\n",
    "#                 ticket = int(ticket[2])\n",
    "#             except:\n",
    "#                 ticket = 0\n",
    "#     new_ticket.append(ticket)"
   ]
  },
  {
   "cell_type": "code",
   "execution_count": 9,
   "id": "2794a042-a340-400f-bb61-12e5d0a8894b",
   "metadata": {},
   "outputs": [],
   "source": [
    "# data['Ticket'] = new_ticket"
   ]
  },
  {
   "cell_type": "code",
   "execution_count": 10,
   "id": "180c5dec-e71b-4b40-b306-63f55222203b",
   "metadata": {},
   "outputs": [],
   "source": [
    "# data.head()"
   ]
  },
  {
   "cell_type": "code",
   "execution_count": 11,
   "id": "4799ae1d-2237-4812-9cef-489213e7c412",
   "metadata": {},
   "outputs": [],
   "source": [
    "# new_names = []\n",
    "# names = data['Name']\n",
    "# for name in names:\n",
    "#     name = name.split(' ')[1].replace('.','')\n",
    "#     new_names.append(name)"
   ]
  },
  {
   "cell_type": "code",
   "execution_count": 12,
   "id": "200f6311-dc50-45b9-87e4-62b56701c5a2",
   "metadata": {},
   "outputs": [],
   "source": [
    "# data['Name'] = new_names"
   ]
  },
  {
   "cell_type": "code",
   "execution_count": 13,
   "id": "f7d4c9bd-76ee-425a-bd2f-7d4701cb5cc9",
   "metadata": {},
   "outputs": [],
   "source": [
    "# data,_,new_data,idx,labels = object_to_int(data,'Name')"
   ]
  },
  {
   "cell_type": "code",
   "execution_count": 14,
   "id": "d020c206-556e-4bc1-89a6-107ef2bbbc3d",
   "metadata": {},
   "outputs": [],
   "source": [
    "# cabins = data['Cabin']"
   ]
  },
  {
   "cell_type": "code",
   "execution_count": 15,
   "id": "c2d47d76-bb1c-4f20-ba08-205ecd632102",
   "metadata": {},
   "outputs": [],
   "source": [
    "# new_cabins = []\n",
    "# for cabin in cabins:\n",
    "#     try:\n",
    "#         cabin = cabin[:1]\n",
    "#         new_cabins.append(cabin)\n",
    "#     except:\n",
    "#         new_cabins.append(5000)"
   ]
  },
  {
   "cell_type": "code",
   "execution_count": 16,
   "id": "88622738-7f96-4d20-a0c7-87cc1553908d",
   "metadata": {},
   "outputs": [],
   "source": [
    "# del data['Cabin']\n",
    "# data['Cabins'] = new_cabins"
   ]
  },
  {
   "cell_type": "code",
   "execution_count": 17,
   "id": "7e9a0da0-9930-4406-a3dd-3f64188caafe",
   "metadata": {},
   "outputs": [],
   "source": [
    "# data,_,new_data,idx,labels = object_to_int(data,'Cabins')"
   ]
  },
  {
   "cell_type": "code",
   "execution_count": 18,
   "id": "e2ac5d25-7e92-4daa-b1b0-ba09b21e598a",
   "metadata": {},
   "outputs": [],
   "source": [
    "# labels"
   ]
  },
  {
   "cell_type": "code",
   "execution_count": 19,
   "id": "61240822-a1e2-4768-8131-01a0db8e8dcf",
   "metadata": {},
   "outputs": [],
   "source": [
    "# data['Cabins'].replace({0:np.nan},inplace=True)"
   ]
  },
  {
   "cell_type": "code",
   "execution_count": 20,
   "id": "697037a2-4f8e-427a-8db8-31d8d64787e8",
   "metadata": {},
   "outputs": [],
   "source": [
    "# data.isna().sum()"
   ]
  },
  {
   "cell_type": "code",
   "execution_count": 21,
   "id": "55011122-3e37-4ece-b6c9-c3e35dab1b80",
   "metadata": {},
   "outputs": [],
   "source": [
    "# data['Cabins'].isna().sum()"
   ]
  },
  {
   "cell_type": "code",
   "execution_count": 22,
   "id": "d8fd5953-cc32-495b-9b43-8ffc8bf992d5",
   "metadata": {},
   "outputs": [],
   "source": [
    "# data['Cabins'].fillna(data['Cabins'].median(),inplace=True)"
   ]
  },
  {
   "cell_type": "code",
   "execution_count": 23,
   "id": "43fe96d0-d115-46e5-a7b1-51338b7e7677",
   "metadata": {},
   "outputs": [],
   "source": [
    "# data.isna().sum()"
   ]
  },
  {
   "cell_type": "code",
   "execution_count": 24,
   "id": "9cf23826-3f6c-4413-b680-d962854662d0",
   "metadata": {},
   "outputs": [],
   "source": [
    "# data,_,new_data,idx,labels = object_to_int(data,'Embarked')\n",
    "# data,_,new_data,idx,labels = object_to_int(data,'Age')"
   ]
  },
  {
   "cell_type": "code",
   "execution_count": 25,
   "id": "ce548827-790b-4b88-990c-42eacff64251",
   "metadata": {},
   "outputs": [],
   "source": [
    "# data['Cabins'].fillna(data['Cabins'].median(),inplace=True)"
   ]
  },
  {
   "cell_type": "code",
   "execution_count": 26,
   "id": "1396e8a5-9c0d-4921-ae55-be30f4d83116",
   "metadata": {},
   "outputs": [],
   "source": [
    "# data.isna().sum()"
   ]
  },
  {
   "cell_type": "code",
   "execution_count": 27,
   "id": "57ce2d4f-57ed-4ed9-8601-d1e3ee76e20a",
   "metadata": {},
   "outputs": [],
   "source": [
    "# data,_,new_data,idx,labels = object_to_int(data,'Embarked')\n",
    "# data,_,new_data,idx,labels = object_to_int(data,'Age')\n",
    "# data,_,new_data,idx,labels = object_to_int(data,'Sex')\n",
    "# data = data.astype(float)"
   ]
  },
  {
   "cell_type": "code",
   "execution_count": 28,
   "id": "9bf7f23b-62af-495b-8895-a46fefe85025",
   "metadata": {},
   "outputs": [],
   "source": [
    "# data.head()"
   ]
  },
  {
   "cell_type": "code",
   "execution_count": 29,
   "id": "452201ce-efee-4faf-ac27-dc651ea8d859",
   "metadata": {},
   "outputs": [],
   "source": [
    "# data = data.astype(float)"
   ]
  },
  {
   "cell_type": "code",
   "execution_count": 30,
   "id": "02352edb-0b9a-4272-9521-4ce47464d52e",
   "metadata": {},
   "outputs": [],
   "source": [
    "# data.head()"
   ]
  },
  {
   "cell_type": "code",
   "execution_count": 31,
   "id": "a3ce9208-8ec7-45c6-b3c2-7b38ebb7e8e9",
   "metadata": {},
   "outputs": [],
   "source": [
    "# data.to_csv('./data/cleaned-data.csv',index=False)"
   ]
  },
  {
   "cell_type": "code",
   "execution_count": 32,
   "id": "3e0c9741-6051-4412-9dbf-43ebe8d48e40",
   "metadata": {},
   "outputs": [],
   "source": [
    "data = pd.read_csv('./data/cleaned-data.csv')"
   ]
  },
  {
   "cell_type": "code",
   "execution_count": 33,
   "id": "2c793a5c-254b-4226-837c-b506fef00c94",
   "metadata": {},
   "outputs": [],
   "source": [
    "X = data.drop('Survived',axis=1)\n",
    "y = data['Survived']"
   ]
  },
  {
   "cell_type": "code",
   "execution_count": 34,
   "id": "e678c1ec-3aeb-4420-a7e2-f581b10e9739",
   "metadata": {},
   "outputs": [],
   "source": [
    "X_train,X_test,y_train,y_test = train_test_split(X,y,test_size=0.0625)"
   ]
  },
  {
   "cell_type": "code",
   "execution_count": 35,
   "id": "ff70c78d-1ff4-4e49-b514-d5f30dba62ac",
   "metadata": {},
   "outputs": [],
   "source": [
    "# train(RandomForestClassifier(),X_train,X_test,y_train,y_test,name='baseline')"
   ]
  },
  {
   "cell_type": "code",
   "execution_count": 36,
   "id": "78119a09-007e-4405-b18c-c53942abd365",
   "metadata": {},
   "outputs": [],
   "source": [
    "# Decomposition\n",
    "# from sklearn.decomposition import PCA\n",
    "# from sklearn.decomposition import KernelPCA"
   ]
  },
  {
   "cell_type": "code",
   "execution_count": 37,
   "id": "ff3fb3b8-7a9e-4b55-9eeb-a1251891925d",
   "metadata": {},
   "outputs": [],
   "source": [
    "# pca = KernelPCA(11)"
   ]
  },
  {
   "cell_type": "code",
   "execution_count": 38,
   "id": "e27e10b7-d991-4f6d-bd16-1cfb24607176",
   "metadata": {},
   "outputs": [],
   "source": [
    "# X_train = pca.fit_transform(X_train)\n",
    "# X_test = pca.transform(X_test)"
   ]
  },
  {
   "cell_type": "code",
   "execution_count": 39,
   "id": "93a30c77-9b81-4b5e-a926-41e60140d763",
   "metadata": {},
   "outputs": [],
   "source": [
    "# train(RandomForestClassifier(),X_train,X_test,y_train,y_test,name='KernelPCA-decomposition')"
   ]
  },
  {
   "cell_type": "code",
   "execution_count": 40,
   "id": "5925cfee-ca83-4e78-a309-1855ba683044",
   "metadata": {},
   "outputs": [],
   "source": [
    "# Feature Selection\n",
    "# from sklearn.feature_selection import VarianceThreshold\n",
    "# from sklearn.feature_selection import SelectKBest\n",
    "# from sklearn.feature_selection import RFECV\n",
    "# from sklearn.feature_selection import SelectFromModel"
   ]
  },
  {
   "cell_type": "code",
   "execution_count": 41,
   "id": "614484d7-f33b-474d-a692-c7282a4ffbf7",
   "metadata": {},
   "outputs": [],
   "source": [
    "# fs = SelectFromModel(RandomForestClassifier(),norm_order=11)"
   ]
  },
  {
   "cell_type": "code",
   "execution_count": 42,
   "id": "167f132d-5fa2-4d17-bd1b-00751ab97b0e",
   "metadata": {},
   "outputs": [],
   "source": [
    "# X_train = fs.fit_transform(X_train,y_train)"
   ]
  },
  {
   "cell_type": "code",
   "execution_count": 43,
   "id": "57274a05-79f3-4e86-9847-0d8dc34cd331",
   "metadata": {},
   "outputs": [],
   "source": [
    "# train(RandomForestClassifier(),X_train,X_test,y_train,y_test,name='SelectFromModel-decomposition')"
   ]
  },
  {
   "cell_type": "code",
   "execution_count": 44,
   "id": "edf313f4-8d1d-413f-a7be-e41af036b904",
   "metadata": {},
   "outputs": [],
   "source": [
    "# Preproccessing\n",
    "from sklearn.preprocessing import (\n",
    "    StandardScaler,\n",
    "    RobustScaler,\n",
    "    MinMaxScaler,\n",
    "    MaxAbsScaler,\n",
    "    OneHotEncoder,\n",
    "    Normalizer,\n",
    "    Binarizer\n",
    ")"
   ]
  },
  {
   "cell_type": "code",
   "execution_count": 45,
   "id": "99bdf87b-2063-4939-9651-94fdab5e2c34",
   "metadata": {},
   "outputs": [],
   "source": [
    "preprocessings = [Normalizer,Binarizer] # StandardScaler,RobustScaler,MinMaxScaler,MaxAbsScaler,"
   ]
  },
  {
   "cell_type": "code",
   "execution_count": 46,
   "id": "8449d3cb-bd36-433c-a4ea-1aa0df05d640",
   "metadata": {},
   "outputs": [],
   "source": [
    "X_train_old = X_train.copy()\n",
    "X_test_old = X_test.copy()"
   ]
  },
  {
   "cell_type": "code",
   "execution_count": 47,
   "id": "d68a6d6f-708d-406c-a2ed-e6c6070b02a0",
   "metadata": {},
   "outputs": [],
   "source": [
    "# for preprocessing in preprocessings:\n",
    "#     X_train = X_train_old.copy()\n",
    "#     X_test = X_test_old.copy()\n",
    "#     preprocessing = preprocessing()\n",
    "#     X_train = preprocessing.fit_transform(X_train)\n",
    "#     X_test = preprocessing.transform(X_test)\n",
    "#     train(RandomForestClassifier(),X_train,X_test,y_train,y_test,name=f'preprocessing-{preprocessing}')"
   ]
  },
  {
   "cell_type": "code",
   "execution_count": 48,
   "id": "5d1e28bf-c648-481a-8a0d-dba1699e2f46",
   "metadata": {},
   "outputs": [],
   "source": [
    "from sklearn.neighbors import KNeighborsClassifier\n",
    "from sklearn.tree import DecisionTreeClassifier\n",
    "from sklearn.ensemble import GradientBoostingClassifier,AdaBoostClassifier,VotingClassifier,BaggingClassifier,RandomForestClassifier\n",
    "from sklearn.svm import SVC\n",
    "from sklearn.ensemble import BaggingClassifier\n",
    "from sklearn.ensemble import ExtraTreesClassifier\n",
    "from catboost import CatBoost,CatBoostClassifier\n",
    "from xgboost import XGBClassifier,XGBRFClassifier"
   ]
  },
  {
   "cell_type": "code",
   "execution_count": 49,
   "id": "7a7cf848-d593-4b64-a98a-c9f5c3d3f9d3",
   "metadata": {},
   "outputs": [],
   "source": [
    "models = [\n",
    "    ['KNeighborsClassifier',KNeighborsClassifier],\n",
    "    ['DecisionTreeClassifier',DecisionTreeClassifier],\n",
    "    ['GradientBoostingClassifier',GradientBoostingClassifier],\n",
    "    ['AdaBoostClassifier',AdaBoostClassifier],\n",
    "    ['VotingClassifier',VotingClassifier],\n",
    "    ['BaggingClassifier',BaggingClassifier],\n",
    "    ['RandomForestClassifier',RandomForestClassifier],\n",
    "    ['SVC',SVC],\n",
    "    ['BaggingClassifier',BaggingClassifier],\n",
    "    ['ExtraTreesClassifier',ExtraTreesClassifier],\n",
    "    ['CatBoost',CatBoost],\n",
    "    ['CatBoostClassifier',CatBoostClassifier],\n",
    "    ['XGBClassifier',XGBClassifier],\n",
    "    ['XGBRFClassifier',XGBRFClassifier],\n",
    "]"
   ]
  },
  {
   "cell_type": "code",
   "execution_count": 52,
   "id": "64f453e4-edb6-42a3-8463-3fa6fe5569a1",
   "metadata": {},
   "outputs": [],
   "source": [
    "# for model in models:\n",
    "#     try:\n",
    "#         train(model[1](),X_train,X_test,y_train,y_test,name=f'model-{model[0]}')\n",
    "#     except:\n",
    "#         pass"
   ]
  },
  {
   "cell_type": "code",
   "execution_count": 54,
   "id": "2057f336-7b26-4db8-becb-59a98f963052",
   "metadata": {},
   "outputs": [],
   "source": [
    "# train(XGBClassifier(),X_train,X_test,y_train,y_test,name=f'XGBClassifier')"
   ]
  },
  {
   "cell_type": "code",
   "execution_count": null,
   "id": "5d819340-9fc0-4f85-8177-cad404d78e54",
   "metadata": {},
   "outputs": [],
   "source": [
    "param_grid = {\n",
    "    'n_estimators':[25,50,75,100,125,250,375,500,625,750,1000],\n",
    "    'criterion':['gini','entropy'],\n",
    "    'max_depth':[1,2,3,4,5,None],\n",
    "    'min_samples_split':[2,2.5,1.25,5.0],\n",
    "    'min_samples_leaf':[1,2,5,7,10],\n",
    "    'max_features':['auto','sqrt','log2'],\n",
    "    'bootstrap':[False,True],\n",
    "    'oob_score':[False,True],\n",
    "    'warm_start':[False,True],\n",
    "    'class_weight':['balanced','balanced_subsample']\n",
    "}\n",
    "model = ExtraTreesClassifier()\n",
    "model = GridSearchCV(model,cv=5,verbose=5,param_grid=param_grid).fit(X,y)"
   ]
  },
  {
   "cell_type": "code",
   "execution_count": null,
   "id": "e0dc35cd-4c65-4708-99ad-38e98c46b87e",
   "metadata": {},
   "outputs": [],
   "source": []
  }
 ],
 "metadata": {
  "kernelspec": {
   "display_name": "Python 3.7.3 64-bit ('base': conda)",
   "language": "python",
   "name": "python373jvsc74a57bd0210f9608a45c0278a93c9e0b10db32a427986ab48cfc0d20c139811eb78c4bbc"
  },
  "language_info": {
   "codemirror_mode": {
    "name": "ipython",
    "version": 3
   },
   "file_extension": ".py",
   "mimetype": "text/x-python",
   "name": "python",
   "nbconvert_exporter": "python",
   "pygments_lexer": "ipython3",
   "version": "3.7.7"
  }
 },
 "nbformat": 4,
 "nbformat_minor": 5
}
